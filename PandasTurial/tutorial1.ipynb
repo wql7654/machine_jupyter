{
 "cells": [
  {
   "cell_type": "code",
   "execution_count": 5,
   "metadata": {},
   "outputs": [
    {
     "name": "stdout",
     "output_type": "stream",
     "text": [
      "     Col1 Col2\n",
      "Row1    1    2\n",
      "Row2    3    4\n"
     ]
    }
   ],
   "source": [
    "#데이터 프레임 생성하기 파이썬의 시작인덱스는 0임에 주의!\n",
    "import numpy as np\n",
    "import pandas as pd\n",
    "\n",
    "#np로 2차원 배열 만들기\n",
    "data = np.array([\n",
    "    ['','Col1','Col2'],\n",
    "    ['Row1',1,2],\n",
    "    ['Row2',3,4]\n",
    "])\n",
    "\n",
    "#2차원 배열을 데이터 프레임으로 변환)\n",
    "df = pd.DataFrame(data=data[1:,1:], index=data[1:,0], columns=data[0,1:])\n",
    "#실제 데이터는 1행 1열부터\n",
    "#index는 행번호 또는 행이름\n",
    "#colums는 열번호 또는 열이름\n",
    "# 인덱스 슬라이싱 : 콜론을 이용하여 연속된 수를 표현\n",
    "# ex) [1:3] -> 1부터 3까지(3은 제외)\n",
    "#     [1: ] -> 1부터 끝까지\n",
    "#     [ :3] -> 0부터 2까지\n",
    "#     [ : ] -> 0부터 끝까지\n",
    "\n",
    "print(df)"
   ]
  },
  {
   "cell_type": "code",
   "execution_count": 7,
   "metadata": {},
   "outputs": [
    {
     "name": "stdout",
     "output_type": "stream",
     "text": [
      "   1  2  3\n",
      "0  1  1  2\n",
      "1  3  2  4\n",
      "\n",
      "   A\n",
      "0  4\n",
      "1  5\n",
      "2  6\n",
      "3  7\n"
     ]
    }
   ],
   "source": [
    "# 사전(dictionary)를 이용한 생성방법\n",
    "my_dict = {1: ['1', '3'], 2: ['1', '2'], 3: ['2', '4']}\n",
    "print(pd.DataFrame(my_dict))\n",
    "print() #간격\n",
    "# 판다스 Dataframe함수를 이용한 생성방법\n",
    "my_df = pd.DataFrame(data=[4,5,6,7], index=range(0,4), columns=['A'])\n",
    "print(my_df)\n"
   ]
  },
  {
   "cell_type": "code",
   "execution_count": 13,
   "metadata": {},
   "outputs": [
    {
     "name": "stdout",
     "output_type": "stream",
     "text": [
      "행열크기 :  (2, 3)\n",
      "행 :  2\n",
      "열 :  3\n"
     ]
    }
   ],
   "source": [
    "df = pd.DataFrame(np.array([[1, 2, 3], [4, 5, 6]]))\n",
    "#데이터프레임 행열크기 보기\n",
    "print(\"행열크기 : \", df.shape) #?x? 크기의 데이터 프레임\n",
    "#행보기\n",
    "print(\"행 : \", len(df.index))\n",
    "#열보기\n",
    "print(\"열 : \", len(df.columns))"
   ]
  },
  {
   "cell_type": "code",
   "execution_count": 20,
   "metadata": {},
   "outputs": [
    {
     "name": "stdout",
     "output_type": "stream",
     "text": [
      "1\n",
      "2\n"
     ]
    }
   ],
   "source": [
    "data = np.array([\n",
    "    ['','Col1','Col2'],\n",
    "    ['Row1',1,2],\n",
    "    ['Row2',3,4]\n",
    "])\n",
    "df = pd.DataFrame(data=data[1:,1:], index=data[1:,0], columns=data[0,1:])\n",
    "\n",
    "# 행열에 대해 번호로만 접근가능\n",
    "print(df.iloc[0, 0])\n",
    "#행열 이름이 문자로구성되어있을때 사용.(만약 행열 이름이 숫자라면 숫자로도 사용가능 함)\n",
    "print(df.loc['Row1', 'Col2'])"
   ]
  },
  {
   "cell_type": "code",
   "execution_count": 23,
   "metadata": {},
   "outputs": [
    {
     "name": "stdout",
     "output_type": "stream",
     "text": [
      "   A  B  C\n",
      "0  1  2  3\n",
      "1  4  5  6\n",
      "2  7  8  9\n",
      "\n",
      "    A   B   C\n",
      "0   1   2   3\n",
      "1   4   5   6\n",
      "2   7   8   9\n",
      "3  11  12  13\n",
      "    A   B   C\n",
      "0   1   2   3\n",
      "1   4   5   6\n",
      "2   7   8   9\n",
      "3  11  12  13\n",
      "   A  B  C\n",
      "0  1  2  3\n",
      "1  4  5  6\n",
      "2  7  8  9\n",
      "3  3  3  3\n"
     ]
    }
   ],
   "source": [
    "df = pd.DataFrame(data=np.array([[1, 2, 3], [4, 5, 6], [7, 8, 9]]), index= [0, 1, 2], columns=['A', 'B', 'C'])\n",
    "print(df) \n",
    "print()\n",
    "# 새로운 행을 추가(행이름은 3)\n",
    "df.loc[3] = [11, 12, 13]\n",
    "print(df) \n",
    "print(df)\n",
    "# 3행이 이미 존재할경우 3행의 내용을 수정.\n",
    "df.loc[3] = [3, 3, 3]\n",
    "print(df)"
   ]
  },
  {
   "cell_type": "code",
   "execution_count": 113,
   "metadata": {},
   "outputs": [
    {
     "name": "stdout",
     "output_type": "stream",
     "text": [
      "   A  B  C\n",
      "0  1  2  3\n",
      "1  4  5  6\n",
      "2  7  8  9\n",
      "   B  C\n",
      "0  2  3\n",
      "1  5  6\n",
      "2  8  9\n",
      "   A  B  C\n",
      "0  1  2  3\n",
      "2  7  8  9\n",
      "   A  B  C\n",
      "0  1  2  3\n",
      "   A  B  C\n",
      "0  1  2  3\n",
      "2  7  8  9\n"
     ]
    }
   ],
   "source": [
    "df = pd.DataFrame(data=np.array([[1, 2, 3], [4, 5, 6], [7, 8, 9]]), index= [0, 1, 2], columns=['A', 'B', 'C'])\n",
    "# Check out the DataFrame `df`\n",
    "print(df)\n",
    "# 'A'열 삭제, axis 1은 열, 0은 행을 의미, inplace가 False면 새로운 df를 복사하여 복사된 df에서 삭제수행후 반환        \n",
    "df2 = df.drop('A', axis=1, inplace=False)\n",
    "print(df2)\n",
    "# 1행 삭제 inplace가 True면 현재 df에서 삭제 수행\n",
    "df.drop(1, axis=0, inplace=True)\n",
    "print(df)\n",
    "# 행삭제, inplace는 False가 기본값\n",
    "print(df.drop(df.index[1]))\n",
    "print(df)\n"
   ]
  },
  {
   "cell_type": "code",
   "execution_count": 120,
   "metadata": {},
   "outputs": [
    {
     "name": "stdout",
     "output_type": "stream",
     "text": [
      "   A  B  C\n",
      "0  1  2  3\n",
      "1  4  5  6\n",
      "2  7  8  9\n",
      "   new_column_1  new_column_2  new_column_3\n",
      "0             1             2             3\n",
      "a             4             5             6\n",
      "2             7             8             9\n"
     ]
    }
   ],
   "source": [
    "df = pd.DataFrame(data=np.array([[1, 2, 3], [4, 5, 6], [7, 8, 9]]), index= [0, 1, 2], columns=['A', 'B', 'C'])\n",
    "print(df)\n",
    "\n",
    "# 열이름 변경을 위한 사전(dictionary)준비\n",
    "newcols = {\n",
    "    'A': 'new_column_1', \n",
    "    'B': 'new_column_2', \n",
    "    'C': 'new_column_3'\n",
    "}\n",
    "\n",
    "# 열이름 변경\n",
    "df.rename(columns=newcols, inplace=True)\n",
    "\n",
    "# 행(index)이름 변경\n",
    "df.rename(index={1: 'a'},  inplace=True)\n",
    "print(df)"
   ]
  }
 ],
 "metadata": {
  "kernelspec": {
   "display_name": "Python 3",
   "language": "python",
   "name": "python3"
  },
  "language_info": {
   "codemirror_mode": {
    "name": "ipython",
    "version": 3
   },
   "file_extension": ".py",
   "mimetype": "text/x-python",
   "name": "python",
   "nbconvert_exporter": "python",
   "pygments_lexer": "ipython3",
   "version": "3.7.3"
  }
 },
 "nbformat": 4,
 "nbformat_minor": 2
}
